{
 "cells": [
  {
   "cell_type": "markdown",
   "metadata": {},
   "source": [
    "1. In the below elements which of them are values or an expression? eg:- values can be integer or string and expressions will be mathematical operators.\n",
    "ans:    * --- expression\n",
    "        'hello' --- values\n",
    "        -87.8 --- values\n",
    "        - --- expression\n",
    "        / --- expression\n",
    "        + --- expression\n",
    "        6 --- values\n"
   ]
  },
  {
   "cell_type": "markdown",
   "metadata": {},
   "source": [
    "2. What is the difference between string and variable?\n",
    "          Ans: variable are like container where we store information like interger,string,float etc\n",
    "          whereas string is collection of character enclosed in single or double quotes \n",
    "          example: name='garg' here \"name\" is variable and \"gargi\" is the string"
   ]
  },
  {
   "cell_type": "markdown",
   "metadata": {},
   "source": [
    "3. Describe three mdifferent data types.\n",
    "         Ans: Numeric, sequence, boolean "
   ]
  },
  {
   "cell_type": "markdown",
   "metadata": {},
   "source": [
    "4. What is an expression made up of? What do all expressions do?\n",
    "        Ans: an expression is made up of operators and operants which comes together to give us some value in result.\n",
    "          they tend to give us some value."
   ]
  },
  {
   "cell_type": "markdown",
   "metadata": {},
   "source": [
    "5. This assignment statements, like spam = 10. What is the difference between an expression and a statement?\n",
    "         Ans: an expression is combination of variable,operators and function calls that always gives us result\n",
    "        the output of expression does not change the state and produces one value as a result\n",
    "        example: x=3, y=9, z=x+y\n",
    "            here all this are expression\n",
    "         statement is the smallest executable code in the program like creating variable or displaying a value\n",
    "        an expression is a statement but a statement should not always be a expression\n",
    "        "
   ]
  },
  {
   "cell_type": "markdown",
   "metadata": {},
   "source": [
    "6. After running the following code, what does the variable bacon contain?"
   ]
  },
  {
   "cell_type": "code",
   "execution_count": 3,
   "metadata": {},
   "outputs": [
    {
     "data": {
      "text/plain": [
       "23"
      ]
     },
     "execution_count": 3,
     "metadata": {},
     "output_type": "execute_result"
    }
   ],
   "source": [
    "bacon = 22\n",
    "bacon + 1"
   ]
  },
  {
   "cell_type": "markdown",
   "metadata": {},
   "source": [
    "7. What should the values of the following two terms be?\n",
    "         'spam' + 'spamspam' --- spamspamspam\n",
    "         'spam' * 3 --- spamspamspam\n",
    "          both of the statement gives same result"
   ]
  },
  {
   "cell_type": "markdown",
   "metadata": {},
   "source": [
    "8. Why is eggs a valid variable name while 100 is invalid?\n",
    "          ans: according to standard writting convention variable name should not start with digit and it should start with letter or some specific character like \"_\" therefore eggs is valid and 100 is invalid"
   ]
  },
  {
   "cell_type": "markdown",
   "metadata": {},
   "source": [
    "9. What three functions can be used to get the integer, floating-point number, or string version of a value?\n",
    "         ans: for integer function is int()\n",
    "              for float function is float()\n",
    "              for string function is str()"
   ]
  },
  {
   "cell_type": "markdown",
   "metadata": {},
   "source": [
    "10. Why does this expression cause an error? How can you fix it?\n",
    "'I have eaten ' + 99 + ' burritos.'\n",
    "         ans: we dont get desired output because we are concatenating string and interger values \n",
    "        to get the desired output we need to convert intger value to string \n",
    "        'I have eaten '+str(99)+' burritos'\n",
    "        now this will give us desired output"
   ]
  }
 ],
 "metadata": {
  "kernelspec": {
   "display_name": "Python 3",
   "language": "python",
   "name": "python3"
  },
  "language_info": {
   "codemirror_mode": {
    "name": "ipython",
    "version": 3
   },
   "file_extension": ".py",
   "mimetype": "text/x-python",
   "name": "python",
   "nbconvert_exporter": "python",
   "pygments_lexer": "ipython3",
   "version": "3.8.3"
  }
 },
 "nbformat": 4,
 "nbformat_minor": 4
}
