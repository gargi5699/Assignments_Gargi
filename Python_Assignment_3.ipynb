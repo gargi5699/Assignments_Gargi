{
 "cells": [
  {
   "cell_type": "markdown",
   "metadata": {},
   "source": [
    "1. Why are functions advantageous to have in your programs?\n",
    "\n",
    "ans: in one single program we perform various tasks and we need to do this tasks many times so instead of writing similar line of code many times we insert that block in a function\n",
    "     so whenever we need to perform some task we call that function \n",
    "     so the advantages of function are they increase readability of code, makes program easy to understand, we just need to call the function so this helps in saving our time"
   ]
  },
  {
   "cell_type": "markdown",
   "metadata": {},
   "source": [
    "2. When does the code in a function run: when it's specified or when it's called?\n",
    "\n",
    "ans: when we call the function then it is exected."
   ]
  },
  {
   "cell_type": "markdown",
   "metadata": {},
   "source": [
    "3. What statement creates a function?\n",
    "\n",
    "ans: def is the keyword which helps us to create a function\n",
    "    \n",
    "    example: def fun(): \n",
    "            this statement will create a funtion named fun "
   ]
  },
  {
   "cell_type": "markdown",
   "metadata": {},
   "source": [
    "4. What is the difference between a function and a function call?\n",
    "\n",
    "ans: in function we define what the function is going do what parameters its going to take but in function call we are actually calling the function to perform a task\n",
    "   \n",
    "   example: def add(a,b):\n",
    "            return a+b\n",
    "        \n",
    "        here function is defining what it is going to do\n",
    "        \n",
    "        when we say add(4,5) this is calling the function "
   ]
  },
  {
   "cell_type": "markdown",
   "metadata": {},
   "source": [
    "5. How many global scopes are there in a Python program? How many local scopes?\n",
    "\n",
    "ans: in python program there is only one global scope and when we define any function the variables inside the function are considered as local variable so as many functions and variable declared in those functions those many local scopes will be there"
   ]
  },
  {
   "cell_type": "markdown",
   "metadata": {},
   "source": [
    "6. What happens to variables in a local scope when the function call returns?\n",
    "\n",
    "ans: when function call returns all the local variable gets destroyed from the memory space"
   ]
  },
  {
   "cell_type": "markdown",
   "metadata": {},
   "source": [
    "7. What is the concept of a return value? Is it possible to have a return value in an expression?\n",
    "\n",
    "ans: when we want to return some value from a funtion to back to caller then we use return statement.\n",
    " \n",
    "     if we make our own return function then we can use that return in an expression\n",
    "     example: def return_30():\n",
    "                  return 30\n",
    "    \n",
    "     when ever we call return_30() in any expression we will get numeric value in return so we can use it in any expression."
   ]
  },
  {
   "cell_type": "markdown",
   "metadata": {},
   "source": [
    "8. If a function does not have a return statement, what is the return value of a call to that function?\n",
    "\n",
    "ans: when we explicitly dont specify return statement in a function it returns NONE to the caller"
   ]
  },
  {
   "cell_type": "markdown",
   "metadata": {},
   "source": [
    "9. How do you make a function variable refer to the global variable?\n",
    "\n",
    "ans: if we want to refer function variable to be a global variable we need to specify global keyword infront of the variable so its scope become global and it can be used in whole program"
   ]
  },
  {
   "cell_type": "markdown",
   "metadata": {},
   "source": [
    "10. What is the data type of None?\n",
    "\n",
    "ans: None is a special data type in python it is defined as null value or no value. none is a data type of its own NoneType"
   ]
  },
  {
   "cell_type": "markdown",
   "metadata": {},
   "source": [
    "11. What does the sentence import areallyourpetsnamederic do?\n",
    "\n",
    "ans: this \"import areallyourpetsnamederic\" imports this module in the program"
   ]
  },
  {
   "cell_type": "markdown",
   "metadata": {},
   "source": [
    "12. If you had a bacon() feature in a spam module, what would you call it after importing spam?\n",
    "\n",
    "ans: we will call it as spam.bacon()"
   ]
  },
  {
   "cell_type": "markdown",
   "metadata": {},
   "source": [
    "13. What can you do to save a programme from crashing if it encounters an error?\n",
    "\n",
    "ans: we will do exception handling in the program for handling it from any error"
   ]
  },
  {
   "cell_type": "markdown",
   "metadata": {},
   "source": [
    "14. What is the purpose of the try clause? What is the purpose of the except clause?\n",
    "\n",
    "ans: when we have to do exception handling in our program we go with this keywords.\n",
    "    \n",
    "    in try block we check for any error in that block of code.\n",
    "    while in except block we resolve that error any show result as we want it to be."
   ]
  },
  {
   "cell_type": "code",
   "execution_count": null,
   "metadata": {},
   "outputs": [],
   "source": []
  }
 ],
 "metadata": {
  "kernelspec": {
   "display_name": "Python 3",
   "language": "python",
   "name": "python3"
  },
  "language_info": {
   "codemirror_mode": {
    "name": "ipython",
    "version": 3
   },
   "file_extension": ".py",
   "mimetype": "text/x-python",
   "name": "python",
   "nbconvert_exporter": "python",
   "pygments_lexer": "ipython3",
   "version": "3.8.3"
  }
 },
 "nbformat": 4,
 "nbformat_minor": 4
}
